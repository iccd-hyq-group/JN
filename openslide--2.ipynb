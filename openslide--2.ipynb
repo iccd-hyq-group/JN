{
 "cells": [
  {
   "cell_type": "code",
   "execution_count": null,
   "metadata": {},
   "outputs": [],
   "source": [
    "'''\n",
    "PIL和skimage对图像处理的区别：\n",
    "PIL提供了最基本的数字图像处理，skimage和numpy一样，以数组的形式进行数据处理\n",
    "PIL的数据格式（width,height,channel）,skimage是（height,width,channel）\n",
    "‘’‘"
   ]
  },
  {
   "cell_type": "code",
   "execution_count": 1,
   "metadata": {},
   "outputs": [],
   "source": [
    "from skimage import color\n",
    "import openslide\n",
    "from openslide import deepzoom\n",
    "import numpy as np\n",
    "import math\n",
    "import PIL\n",
    "from PIL import Image\n",
    "import os\n",
    "from skimage import filters,transform,io,color\n",
    "import cv2"
   ]
  },
  {
   "cell_type": "code",
   "execution_count": 2,
   "metadata": {},
   "outputs": [],
   "source": [
    "# 将svs格式图片缩小32倍，存储为png格式，用PIL库\n",
    "def slide_to_png(slide):\n",
    "    scale_factor = 32\n",
    "    base_path = os.path.abspath(slide)\n",
    "    print(base_path)\n",
    "    slide = openslide.OpenSlide(slide)\n",
    "    orig_w,orig_h = slide.dimensions\n",
    "    new_w = math.floor(orig_w / scale_factor)\n",
    "    new_h = math.floor(orig_h / scale_factor)\n",
    "    level = slide.get_best_level_for_downsample(scale_factor)\n",
    "    orig_slide = (slide.read_region((0,0),level,slide.level_dimensions[level])).convert(\"RGB\")\n",
    "    img = orig_slide.resize((new_w,new_h),PIL.Image.BILINEAR)\n",
    "    save_path = os.path.join('.'+'/file/',os.path.split(base_path)[1].split('.')[0]+'.png')\n",
    "    print(save_path)\n",
    "    img.save(save_path)\n",
    "    return img,new_w,new_h"
   ]
  },
  {
   "cell_type": "code",
   "execution_count": null,
   "metadata": {},
   "outputs": [
    {
     "name": "stdout",
     "output_type": "stream",
     "text": [
      "/home/jn/code/lianxi/1.svs\n"
     ]
    }
   ],
   "source": [
    "img,_,_ = slide_to_png('1.svs')\n",
    "img.show()"
   ]
  },
  {
   "cell_type": "code",
   "execution_count": null,
   "metadata": {},
   "outputs": [],
   "source": [
    "# 将svs存为jpeg格式，缩小32倍，用skimage；\n",
    "def slide_to_jpeg(slide):\n",
    "    scale_factor=32\n",
    "    base_path = os.path.abspath(slide)\n",
    "    slide = openslide.OpenSlide(slide)\n",
    "    orig_w,orig_h = slide.dimensions\n",
    "    new_w = math.floor(orig_w / scale_factor)\n",
    "    new_h = math.floor(orig_h / scale_factor)\n",
    "    level = slide.get_best_level_for_downsample(scale_factor)\n",
    "    orig_slide = (slide.read_region((0,0),level,slide.level_dimensions[level])).convert(\"RGB\")\n",
    "    im = np.array(orig_slide)\n",
    "    im = transform.resize(im,(new_h,new_w))\n",
    "    # 这里im数组中数据范围是[0,1]，*255后转换成RGB值\n",
    "    im = (im*255).astype(\"uint8\")\n",
    "    print(im.dtype)\n",
    "    save_path = os.path.join('.'+'/file/',os.path.split(base_path)[1].split('.')[0]+'1.jpeg')\n",
    "    io.imsave(save_path,im)\n",
    "    return im,new_h,new_w\n",
    "\n",
    "# 注意：这里的im是numpy数组格式的"
   ]
  },
  {
   "cell_type": "code",
   "execution_count": null,
   "metadata": {},
   "outputs": [],
   "source": [
    "img1,_,_ = slide_to_jpeg('test.tif')\n",
    "io.imshow(img1)"
   ]
  },
  {
   "cell_type": "code",
   "execution_count": null,
   "metadata": {},
   "outputs": [],
   "source": [
    "Slide = openslide.OpenSlide(\"./file/3.svs\")\n",
    "#Slide1 = deepzoom.DeepZoomGenerator(Slide,tile_size = 256,overlap = 1,limit_bounds = False)\n",
    "#print(Slide1.level_count)"
   ]
  },
  {
   "cell_type": "code",
   "execution_count": null,
   "metadata": {},
   "outputs": [],
   "source": [
    "Slide.level_count"
   ]
  },
  {
   "cell_type": "code",
   "execution_count": null,
   "metadata": {},
   "outputs": [],
   "source": [
    "np_slide = np.array((Slide.read_region((0,0),10,Slide.level_dimensions[2])).convert(\"RGB\"))"
   ]
  },
  {
   "cell_type": "code",
   "execution_count": null,
   "metadata": {},
   "outputs": [],
   "source": [
    "hsv_slide = color.rgb2hsv(np_slide)\n",
    "print(hsv_slide.shape)\n",
    "print(hsv_slide[0].shape)\n",
    "print(hsv_slide[1].shape)\n",
    "print(hsv_slide[2].shape)"
   ]
  },
  {
   "cell_type": "code",
   "execution_count": null,
   "metadata": {},
   "outputs": [],
   "source": [
    "img_R = np_slide[:,:,0]\n",
    "img_G = np_slide[:,:,1]\n",
    "img_B = np_slide[:,:,2]\n",
    "R_thresh_value = filters.threshold_otsu(img_R)\n",
    "G_thresh_value = filters.threshold_otsu(img_G)\n",
    "B_thresh_value = filters.threshold_otsu(img_B)\n",
    "otsu_R = (img_R > R_thresh_value)\n",
    "otsu_G = (img_G > G_thresh_value)\n",
    "otsu_B = (img_B > B_thresh_value)\n",
    "tissue_RGB = np.logical_not(otsu_R & otsu_G & otsu_B)\n",
    "tissue_h = (hsv_slide[:,:,1] > filters.threshold_otsu(hsv_slide[:,:,1]))\n",
    "tissue_mask = tissue_RGB & tissue_h\n",
    "hsv_slide = np_slide * np.dstack([tissue_mask,tissue_mask,tissue_mask])"
   ]
  },
  {
   "cell_type": "code",
   "execution_count": null,
   "metadata": {},
   "outputs": [],
   "source": [
    "tissue_mask = np.save('./3.npy',tissue_mask)"
   ]
  },
  {
   "cell_type": "code",
   "execution_count": null,
   "metadata": {},
   "outputs": [],
   "source": [
    "(rows,cols) = Slide.dimensions\n",
    "print(rows,cols)"
   ]
  },
  {
   "cell_type": "code",
   "execution_count": null,
   "metadata": {},
   "outputs": [],
   "source": [
    "width = 256\n",
    "height = 256\n",
    "tiles_cols = math.ceil(cols / width)\n",
    "tiles_rows = math.ceil(rows / height)\n",
    "print(tiles_rows,tiles_cols)"
   ]
  },
  {
   "cell_type": "code",
   "execution_count": null,
   "metadata": {},
   "outputs": [],
   "source": [
    "indices = list()\n",
    "for r in range(0,tiles_rows):\n",
    "    start_r = r * width\n",
    "    end_r = (r + 1) * width  if(r < tiles_rows-1) else rows\n",
    "    for c in range(0,tiles_cols):\n",
    "        start_c = c * height\n",
    "        end_c = (c + 1) * height if(c < tiles_cols-1) else cols\n",
    "        indices.append((start_r,end_r,start_c,end_c,r+1,c+1))"
   ]
  },
  {
   "cell_type": "code",
   "execution_count": null,
   "metadata": {},
   "outputs": [],
   "source": [
    "for i in indices:\n",
    "    np_img = hsv_slide[i[0]:i[1],i[2]:i[3],:]\n",
    "    np_sum = np_img[:,:,0] + np_img[:,:,1] + np_img[:,:,2]\n",
    "    tissue_percentage = np.count_nonzero(np_sum) / (np_sum.size+0.1)\n",
    "    if tissue_percentage >= 0.50:\n",
    "        print(tissue_percentage)\n",
    "        im = Image.fromarray(np_img)\n",
    "        im.save(os.path.join(\"./file/masked\",str(i)+\".png\"))"
   ]
  },
  {
   "cell_type": "code",
   "execution_count": null,
   "metadata": {},
   "outputs": [],
   "source": []
  }
 ],
 "metadata": {
  "kernelspec": {
   "display_name": "Python [conda env:exer]",
   "language": "python",
   "name": "conda-env-exer-py"
  },
  "language_info": {
   "codemirror_mode": {
    "name": "ipython",
    "version": 3
   },
   "file_extension": ".py",
   "mimetype": "text/x-python",
   "name": "python",
   "nbconvert_exporter": "python",
   "pygments_lexer": "ipython3",
   "version": "3.7.4"
  }
 },
 "nbformat": 4,
 "nbformat_minor": 2
}
